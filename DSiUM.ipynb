{
 "cells": [
  {
   "cell_type": "code",
   "execution_count": 2,
   "id": "de80d3db",
   "metadata": {},
   "outputs": [
    {
     "data": {
      "text/plain": [
       "Index(['Survived', 'Pclass', 'Name', 'Sex', 'Age', 'SibSp', 'Parch', 'Fare',\n",
       "       'Embarked'],\n",
       "      dtype='object')"
      ]
     },
     "execution_count": 2,
     "metadata": {},
     "output_type": "execute_result"
    }
   ],
   "source": [
    "import pandas as pd\n",
    "import matplotlib.pyplot as plt\n",
    "import seaborn as sns\n",
    "\n",
    "pd.options.display.min_rows = 20\n",
    "\n",
    "df = pd.read_csv('Titanic-train.csv')\n",
    "len(df.columns)\n",
    "column_names = df.columns[[1,2,3,4,5,6,7,9,11]]\n",
    "column_names"
   ]
  },
  {
   "cell_type": "markdown",
   "id": "e99632c9",
   "metadata": {},
   "source": [
    "<h4>Sprawdzamy ilość unikalnych elementów w poszczególnych kolumnach (atrybutach) oraz typ danych przechowywany w tej kolumnie.<br>\n",
    "Czy mamy do czynienia ze zmiennymi kategorycznymi (jakościowymi), czy też numerycznymi (ilościowymi)</h4>"
   ]
  },
  {
   "cell_type": "code",
   "execution_count": 3,
   "id": "ed7efcef",
   "metadata": {},
   "outputs": [
    {
     "name": "stdout",
     "output_type": "stream",
     "text": [
      "PassengerId - unikalne elementy: 891 - typ[int64]\n",
      "Survived    - unikalne elementy:  2  - typ[int64]\n",
      "Pclass      - unikalne elementy:  3  - typ[int64]\n",
      "Name        - unikalne elementy: 891 - typ[object]\n",
      "Sex         - unikalne elementy:  2  - typ[object]\n",
      "Age         - unikalne elementy:  89 - typ[float64]\n",
      "SibSp       - unikalne elementy:  7  - typ[int64]\n",
      "Parch       - unikalne elementy:  7  - typ[int64]\n",
      "Ticket      - unikalne elementy: 681 - typ[object]\n",
      "Fare        - unikalne elementy: 248 - typ[float64]\n",
      "Cabin       - unikalne elementy: 148 - typ[object]\n",
      "Embarked    - unikalne elementy:  4  - typ[object]\n"
     ]
    }
   ],
   "source": [
    "for col_name in df.columns:\n",
    "    print(f'{col_name:12}- unikalne elementy: {len(df[col_name].unique()):^4}- typ[{df[col_name].dtype}]')"
   ]
  },
  {
   "cell_type": "code",
   "execution_count": 9,
   "id": "9b8430b4",
   "metadata": {},
   "outputs": [],
   "source": [
    "def check_if_outlier(DF : pd.DataFrame, feature : str = '', degree = 2):\n",
    "        \"\"\"Funkcja zwracająca Prawdę lub Fausz w zależności czy element jest odstający.\n",
    "        dane wejściowe - pd.DataFrame z wartościami numerycznymi. \n",
    "        dane wyjściowe pd.Series zwracający True i False.\"\"\"\n",
    "        std_dev = DF[feature].std()\n",
    "        miu = DF[feature].mean()\n",
    "        ret_val = []\n",
    "        for elt in DF[feature]:\n",
    "            if elt > miu + degree * std_dev or elt < miu - degree * std_dev:\n",
    "                ret_val.append(True)\n",
    "            else: \n",
    "                ret_val.append(False)\n",
    "        return pd.Series(ret_val)\n",
    "\n",
    "def opisz_dane (df: pd.DataFrame) -> pd.DataFrame:\n",
    "    wiersze = ('wszystkie elementy','unikalne elementy', 'braki (NA/nan)', 'max', 'min', 'średnia arytmetyczna', 'mediana', 'moda',\n",
    "    'ochylenie standardowe', 'ilosc elementów odstających')\n",
    "\n",
    "    is_numeric = {column_name: True if ('int' in str(df[column_name].dtype)  or df[column_name].dtype =='float') else False for column_name in df.columns}\n",
    "    all_items = {column_name : df[column_name].count() for column_name in df.columns}\n",
    "    unique_items = {column_name : df[column_name].value_counts().count() for column_name in df.columns}\n",
    "    brak_w_items = {column_name : sum(df[column_name].isna()) for column_name in df.columns}\n",
    "    max_items = {column_name: df[column_name].max() if is_numeric[column_name] else pd.NA for column_name in df.columns}\n",
    "    min_items = {column_name: df[column_name].min() if is_numeric[column_name] else pd.NA for column_name in df.columns}\n",
    "    average_items = {column_name: df[column_name].mean() if is_numeric[column_name] else pd.NA for column_name in df.columns}\n",
    "    median_items = {column_name: df[column_name].median() if is_numeric[column_name] else pd.NA for column_name in df.columns}\n",
    "    mode_items = {column_name: df[column_name].mode() if is_numeric[column_name] else pd.NA for column_name in df.columns}\n",
    "    std_deviation = {column_name: df[column_name].std() if is_numeric[column_name] else pd.NA for column_name in df.columns}\n",
    "\n",
    "    outliers = {column_name: check_if_outlier(df, column_name).sum() if is_numeric[column_name] else pd.NA for column_name in df.columns}\n",
    "\n",
    "    serie= [all_items, unique_items, brak_w_items, max_items, \n",
    "    min_items, average_items,median_items,mode_items,std_deviation,outliers]\n",
    "\n",
    "#    print(pd.DataFrame(serie, index = wiersze))\n",
    "    return pd.DataFrame(serie, index = wiersze)"
   ]
  },
  {
   "cell_type": "code",
   "execution_count": 5,
   "id": "88640bee",
   "metadata": {},
   "outputs": [
    {
     "data": {
      "text/plain": [
       "<seaborn.axisgrid.FacetGrid at 0x216a6b72ee0>"
      ]
     },
     "execution_count": 5,
     "metadata": {},
     "output_type": "execute_result"
    },
    {
     "data": {
      "image/png": "[encoded data removed]",
      "text/plain": [
       "<Figure size 483.875x648 with 6 Axes>"
      ]
     },
     "metadata": {
      "needs_background": "light"
     },
     "output_type": "display_data"
    }
   ],
   "source": [
    "sijatka = sns.FacetGrid(df,col = 'Sex', row = 'Embarked',hue = 'Survived',)\n",
    "sijatka.map_dataframe(sns.histplot, x = 'Fare', multiple = 'layer', alpha = 0.5, )\n",
    "sijatka.refline(x=df[\"Fare\"].median())\n",
    "sijatka.add_legend()"
   ]
  },
  {
   "cell_type": "code",
   "execution_count": 13,
   "id": "eb4e8548",
   "metadata": {},
   "outputs": [
    {
     "name": "stdout",
     "output_type": "stream",
     "text": [
      "   qq\n",
      "0   1\n",
      "1   1\n",
      "2   1\n",
      "3   1\n",
      "4  10\n",
      "5   1\n",
      "6   1\n",
      "7   2\n",
      "8   3\n",
      "9  -8\n"
     ]
    }
   ],
   "source": [
    "a = pd.DataFrame({'qq':[1,1,1,1,10,1,1,2,3,-8]})\n",
    "for i in a:\n",
    "    print(a)\n",
    "#check_if_outlier()"
   ]
  }
 ],
 "metadata": {
  "interpreter": {
   "hash": "26de051ba29f2982a8de78e945f0abaf191376122a1563185a90213a26c5da77"
  },
  "kernelspec": {
   "display_name": "Python 3.10.0 64-bit",
   "language": "python",
   "name": "python3"
  },
  "language_info": {
   "codemirror_mode": {
    "name": "ipython",
    "version": 3
   },
   "file_extension": ".py",
   "mimetype": "text/x-python",
   "name": "python",
   "nbconvert_exporter": "python",
   "pygments_lexer": "ipython3",
   "version": "3.10.0"
  }
 },
 "nbformat": 4,
 "nbformat_minor": 5
}
